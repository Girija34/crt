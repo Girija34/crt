{
 "cells": [
  {
   "cell_type": "code",
   "execution_count": 6,
   "id": "d3618b6d",
   "metadata": {},
   "outputs": [
    {
     "name": "stdout",
     "output_type": "stream",
     "text": [
      "[12, -2, -33, 84, 0]\n",
      "0\n"
     ]
    }
   ],
   "source": [
    "num=[12,-2,-33,84]\n",
    "num.append(0)\n",
    "print(num)\n",
    "print(num.count(5))"
   ]
  },
  {
   "cell_type": "code",
   "execution_count": 19,
   "id": "da4268d5",
   "metadata": {},
   "outputs": [
    {
     "name": "stdout",
     "output_type": "stream",
     "text": [
      "None\n"
     ]
    }
   ],
   "source": [
    "num=[6,3,7,0,1,2,4,9]\n",
    "print(num.reverse())\n"
   ]
  },
  {
   "cell_type": "code",
   "execution_count": 20,
   "id": "c5a06f91",
   "metadata": {},
   "outputs": [
    {
     "name": "stdout",
     "output_type": "stream",
     "text": [
      "371\n",
      "nas\n",
      "nas\n",
      "nas\n"
     ]
    }
   ],
   "source": [
    "sum=0\n",
    "n=int(input())\n",
    "while(n!=0):\n",
    "    r=n%10\n",
    "    sum+=(r*r*r)\n",
    "    n=n//10\n",
    "    if(sum==num):\n",
    "        print(\" as\")\n",
    "    else:\n",
    "        print(\"nas\")"
   ]
  },
  {
   "cell_type": "code",
   "execution_count": 27,
   "id": "3a3d5aa8",
   "metadata": {},
   "outputs": [
    {
     "name": "stdout",
     "output_type": "stream",
     "text": [
      "[0, 1, 8, 27, 64, 125, 216, 343, 512, 729, 1000]\n"
     ]
    }
   ],
   "source": [
    "n=[]\n",
    "for i in range(11):\n",
    "    n.append(i**3)\n",
    "print(n)\n",
    "    "
   ]
  },
  {
   "cell_type": "code",
   "execution_count": 32,
   "id": "cc6b9146",
   "metadata": {},
   "outputs": [
    {
     "name": "stdout",
     "output_type": "stream",
     "text": [
      "4567\n",
      "10 12\n"
     ]
    }
   ],
   "source": [
    "n=int(input())\n",
    "ne=0\n",
    "p=0\n",
    "while n!=0:\n",
    "    a=n%10\n",
    "    if a%2==0:\n",
    "        p=p+a\n",
    "    else:\n",
    "        ne=ne+a\n",
    "    n=n//10\n",
    "print(p,ne)"
   ]
  },
  {
   "cell_type": "code",
   "execution_count": 37,
   "id": "95ec82db",
   "metadata": {},
   "outputs": [
    {
     "name": "stdout",
     "output_type": "stream",
     "text": [
      "2 3 4 5\n",
      "8 6\n"
     ]
    }
   ],
   "source": [
    "n=list(map(int,input().split()))\n",
    "ne=0\n",
    "p=0\n",
    "for i in range(len(n)):\n",
    "    if n[i]%2==0:\n",
    "        p=p+n[i]\n",
    "    else:\n",
    "        ne=ne+n[i]\n",
    "print(ne,p)"
   ]
  },
  {
   "cell_type": "code",
   "execution_count": 39,
   "id": "1c0f7513",
   "metadata": {},
   "outputs": [
    {
     "name": "stdout",
     "output_type": "stream",
     "text": [
      "[0, 1, 8, 27, 64, 125, 216, 343, 512, 729, 1000]\n"
     ]
    }
   ],
   "source": [
    "print([i**3 for i in range(11)])"
   ]
  },
  {
   "cell_type": "code",
   "execution_count": 40,
   "id": "ef4dab28",
   "metadata": {},
   "outputs": [
    {
     "name": "stdout",
     "output_type": "stream",
     "text": [
      "enter a num:16\n",
      "2187\n"
     ]
    }
   ],
   "source": [
    "a=int(input(\"enter a num:\"))\n",
    "if a%2==0:\n",
    "    a=a//2\n",
    "    print(3**(a-1))\n",
    "else:\n",
    "    a=a//2+1\n",
    "    print(2**(a-1))"
   ]
  },
  {
   "cell_type": "code",
   "execution_count": 41,
   "id": "3cf5cb2a",
   "metadata": {},
   "outputs": [
    {
     "name": "stdout",
     "output_type": "stream",
     "text": [
      "enter a num:13\n",
      "64\n"
     ]
    }
   ],
   "source": [
    "a=int(input(\"enter a num:\"))\n",
    "if a%2==0:\n",
    "    a=a//2\n",
    "    print(3**(a-1))\n",
    "else:\n",
    "    a=a//2+1\n",
    "    print(2**(a-1))"
   ]
  },
  {
   "cell_type": "code",
   "execution_count": null,
   "id": "53379492",
   "metadata": {},
   "outputs": [],
   "source": []
  }
 ],
 "metadata": {
  "kernelspec": {
   "display_name": "Python 3 (ipykernel)",
   "language": "python",
   "name": "python3"
  },
  "language_info": {
   "codemirror_mode": {
    "name": "ipython",
    "version": 3
   },
   "file_extension": ".py",
   "mimetype": "text/x-python",
   "name": "python",
   "nbconvert_exporter": "python",
   "pygments_lexer": "ipython3",
   "version": "3.9.7"
  }
 },
 "nbformat": 4,
 "nbformat_minor": 5
}
