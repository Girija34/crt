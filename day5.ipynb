{
 "cells": [
  {
   "cell_type": "code",
   "execution_count": 3,
   "id": "a5d64c94",
   "metadata": {},
   "outputs": [
    {
     "name": "stdout",
     "output_type": "stream",
     "text": [
      "20\n",
      "10\n",
      "result: 30\n"
     ]
    }
   ],
   "source": [
    "def total(a,b):\n",
    "    result=a+b\n",
    "    print(\"result:\",result)\n",
    "x=int(input())\n",
    "y=int(input())\n",
    "total(x,y)"
   ]
  },
  {
   "cell_type": "code",
   "execution_count": 9,
   "id": "2598eddb",
   "metadata": {},
   "outputs": [
    {
     "name": "stdout",
     "output_type": "stream",
     "text": [
      "20\n",
      "10\n",
      "result: 30\n",
      "result2: 10\n",
      "result: 2.0\n",
      "result: 200\n"
     ]
    }
   ],
   "source": [
    "def total(a,b):\n",
    "    result=a+b\n",
    "    print(\"result:\",result)\n",
    "def diff(a,b):\n",
    "    result1=a-b\n",
    "    print(\"result2:\",result1)\n",
    "def div(a,b):\n",
    "    result2=a/b\n",
    "    print(\"result:\",result2)\n",
    "def mul(a,b):\n",
    "    result3=a*b\n",
    "    print(\"result:\",result3)\n",
    "a=int(input())\n",
    "b=int(input())\n",
    "total(a,b)\n",
    "diff(a,b)\n",
    "div(a,b)\n",
    "mul(a,b)"
   ]
  },
  {
   "cell_type": "code",
   "execution_count": 5,
   "id": "fa4dc0dc",
   "metadata": {},
   "outputs": [
    {
     "name": "stdout",
     "output_type": "stream",
     "text": [
      "give vinod the sum of 50\n"
     ]
    }
   ],
   "source": [
    "def rj(money):\n",
    "    print(\"give vinod the sum of\",money)\n",
    "money=50\n",
    "rj(money)"
   ]
  },
  {
   "cell_type": "code",
   "execution_count": 4,
   "id": "5110a10a",
   "metadata": {},
   "outputs": [
    {
     "name": "stdout",
     "output_type": "stream",
     "text": [
      "give vinod the sum of 50\n"
     ]
    }
   ],
   "source": [
    "def rj(money):\n",
    "    print(\"give vinod the sum of\",money)\n",
    "rj(50)"
   ]
  },
  {
   "cell_type": "code",
   "execution_count": 3,
   "id": "95d324c1",
   "metadata": {},
   "outputs": [
    {
     "name": "stdout",
     "output_type": "stream",
     "text": [
      "give vinod the sum of 50\n"
     ]
    }
   ],
   "source": [
    "def rj(money):\n",
    "    print(\"give vinod the sum of\",money)\n",
    "rj(5*10)"
   ]
  },
  {
   "cell_type": "code",
   "execution_count": 1,
   "id": "b55b7708",
   "metadata": {},
   "outputs": [
    {
     "name": "stdout",
     "output_type": "stream",
     "text": [
      "in function var c is brock lesnar\n",
      "outside fun tall\n",
      "var is brock lesnar\n"
     ]
    }
   ],
   "source": [
    "var='brock lesnar'\n",
    "def show():\n",
    "    global var1\n",
    "    var1='tall'\n",
    "    print(\"in function var c is\",var)\n",
    "show()\n",
    "print(\"outside fun\",var1)\n",
    "print(\"var is\",var)"
   ]
  },
  {
   "cell_type": "code",
   "execution_count": 16,
   "id": "eca039f3",
   "metadata": {},
   "outputs": [
    {
     "name": "stdout",
     "output_type": "stream",
     "text": [
      "inner var 20\n",
      "outer var 10\n"
     ]
    }
   ],
   "source": [
    "def outf():\n",
    "    var=10\n",
    "    def innf():\n",
    "        var=20\n",
    "        print(\"inner var\",var)\n",
    "    innf()\n",
    "    print(\"outer var\",var)\n",
    "outf()"
   ]
  },
  {
   "cell_type": "code",
   "execution_count": 21,
   "id": "cae27d73",
   "metadata": {},
   "outputs": [
    {
     "name": "stdout",
     "output_type": "stream",
     "text": [
      "output of the evaluation is 1000\n"
     ]
    }
   ],
   "source": [
    "def cube(x):\n",
    "    return(x*x*x)\n",
    "num=10\n",
    "result=cube(num)\n",
    "print(\"output of the evaluation is\",result)"
   ]
  },
  {
   "cell_type": "code",
   "execution_count": 25,
   "id": "5d040506",
   "metadata": {},
   "outputs": [
    {
     "name": "stdout",
     "output_type": "stream",
     "text": [
      "sum: 22\n"
     ]
    }
   ],
   "source": [
    "def total(x):\n",
    "    return(x)\n",
    "x=(6,4,2,10,0)\n",
    "result=sum(x)\n",
    "print(\"sum:\",result)"
   ]
  },
  {
   "cell_type": "code",
   "execution_count": 27,
   "id": "3b41b28a",
   "metadata": {},
   "outputs": [
    {
     "name": "stdout",
     "output_type": "stream",
     "text": [
      "hi\n"
     ]
    }
   ],
   "source": [
    "def display(str1):\n",
    "    print(str1)\n",
    "str1='hi'\n",
    "display(str1)"
   ]
  },
  {
   "cell_type": "code",
   "execution_count": 29,
   "id": "660b90d9",
   "metadata": {},
   "outputs": [
    {
     "name": "stdout",
     "output_type": "stream",
     "text": [
      "name brock lesnar\n",
      "age 34\n"
     ]
    }
   ],
   "source": [
    "def display(name,age):\n",
    "    print(\"name\",name)\n",
    "    print(\"age\",age)\n",
    "n='brock lesnar'\n",
    "a=34\n",
    "display(name=n,age=a)"
   ]
  },
  {
   "cell_type": "code",
   "execution_count": 33,
   "id": "5f91fcf7",
   "metadata": {
    "scrolled": true
   },
   "outputs": [
    {
     "name": "stdout",
     "output_type": "stream",
     "text": [
      "6\n",
      "fibonacci( 0 ) 1\n",
      "fibonacci( 1 ) 1\n",
      "fibonacci( 2 ) 2\n",
      "fibonacci( 3 ) 3\n",
      "fibonacci( 4 ) 5\n",
      "fibonacci( 5 ) 8\n"
     ]
    }
   ],
   "source": [
    "def fib(n):\n",
    "    if n<2:\n",
    "        return 1\n",
    "    return (fib(n-1)+fib(n-2))\n",
    "n=int(input())\n",
    "for i in range(n):\n",
    "    print(\"fibonacci(\",i,\")\",fib(i))"
   ]
  },
  {
   "cell_type": "code",
   "execution_count": 33,
   "id": "84c17e31",
   "metadata": {},
   "outputs": [
    {
     "name": "stdout",
     "output_type": "stream",
     "text": [
      "[] [] [1, 2, 3, 4]\n",
      "before puzzle\n",
      "[] [] [1, 2, 3, 4]\n",
      "after puzzle\n",
      "[] [] [1, 2, 3, 4]\n"
     ]
    }
   ],
   "source": [
    "def hanoi(n, a, b, c):\n",
    "    if n>0:\n",
    "        hanoi(n-1, a, c, b)\n",
    "        if a:\n",
    "            c.append(a.pop())\n",
    "        hanoi(n-1,b,a,c)\n",
    "a=[1,2,3,4]\n",
    "b=[]\n",
    "c=[]\n",
    "hanoi(len(a),a,b,c)\n",
    "print(a,b,c)\n",
    "print(\"before puzzle\")\n",
    "print(a,b,c)\n",
    "hanoi(len(a),a,b,c)\n",
    "print(\"after puzzle\")\n",
    "print(a,b,c)"
   ]
  },
  {
   "cell_type": "code",
   "execution_count": 40,
   "id": "e8fd1249",
   "metadata": {},
   "outputs": [
    {
     "name": "stdout",
     "output_type": "stream",
     "text": [
      "2023-02-03\n"
     ]
    }
   ],
   "source": [
    "from datetime import *\n",
    "d=date.today()\n",
    "print(d)\n",
    "d=date(2023, 2, 3)\n",
    "for x in range(1,10):\n",
    "    nextdate=d+timedelta(days=x)"
   ]
  },
  {
   "cell_type": "code",
   "execution_count": 4,
   "id": "325af520",
   "metadata": {},
   "outputs": [
    {
     "name": "stdout",
     "output_type": "stream",
     "text": [
      "145\n",
      "not krishnamurthy's number\n"
     ]
    }
   ],
   "source": [
    "def fact(n):\n",
    "    while(n!=0):\n",
    "        r=n%10\n",
    "    s=s+fact()\n",
    "    n=n//10\n",
    "n=int(input())\n",
    "if (n==5):\n",
    "    print(\"krishnamurthy's number\")\n",
    "else:\n",
    "    print(\"not krishnamurthy's number\")"
   ]
  },
  {
   "cell_type": "code",
   "execution_count": null,
   "id": "6dbbb878",
   "metadata": {},
   "outputs": [],
   "source": []
  }
 ],
 "metadata": {
  "kernelspec": {
   "display_name": "Python 3 (ipykernel)",
   "language": "python",
   "name": "python3"
  },
  "language_info": {
   "codemirror_mode": {
    "name": "ipython",
    "version": 3
   },
   "file_extension": ".py",
   "mimetype": "text/x-python",
   "name": "python",
   "nbconvert_exporter": "python",
   "pygments_lexer": "ipython3",
   "version": "3.9.7"
  }
 },
 "nbformat": 4,
 "nbformat_minor": 5
}
