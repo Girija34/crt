{
 "cells": [
  {
   "cell_type": "code",
   "execution_count": 2,
   "id": "69a0abad",
   "metadata": {},
   "outputs": [
    {
     "name": "stdout",
     "output_type": "stream",
     "text": [
      "10\n",
      "this is in class\n"
     ]
    }
   ],
   "source": [
    "class abc:\n",
    "    attribute1=10\n",
    "    def display(self):\n",
    "        print(\"this is in class\")\n",
    "obj=abc()\n",
    "print(obj.attribute1)\n",
    "obj.display()"
   ]
  },
  {
   "cell_type": "code",
   "execution_count": 7,
   "id": "b48ceaa3",
   "metadata": {},
   "outputs": [
    {
     "name": "stdout",
     "output_type": "stream",
     "text": [
      "this is in class\n",
      "the value is 100\n"
     ]
    }
   ],
   "source": [
    "class abc:\n",
    "    def __init__(self,value):\n",
    "        print(\"this is in class\")\n",
    "        self.value=value\n",
    "        print(\"the value is\", value)\n",
    "obj=abc(100)"
   ]
  },
  {
   "cell_type": "code",
   "execution_count": 8,
   "id": "1b3df2a2",
   "metadata": {},
   "outputs": [
    {
     "name": "stdout",
     "output_type": "stream",
     "text": [
      "the obj value is  100\n",
      "the class value is 1\n",
      "the obj value is  101\n",
      "the class value is 2\n",
      "the obj value is  102\n",
      "the class value is 3\n"
     ]
    }
   ],
   "source": [
    "class abc:\n",
    "    class_var=0\n",
    "    def __init__(self,var):\n",
    "        abc.class_var +=1\n",
    "        self.var=var\n",
    "        print(\"the obj value is \",var)\n",
    "        print(\"the class value is\",abc.class_var)\n",
    "obj1=abc(100)\n",
    "obj2=abc(101)\n",
    "obj3=abc(102)"
   ]
  },
  {
   "cell_type": "code",
   "execution_count": 9,
   "id": "3ab24dbb",
   "metadata": {},
   "outputs": [
    {
     "ename": "SyntaxError",
     "evalue": "invalid syntax (Temp/ipykernel_6716/67391954.py, line 1)",
     "output_type": "error",
     "traceback": [
      "\u001b[1;36m  File \u001b[1;32m\"C:\\Users\\ITPEC~1\\AppData\\Local\\Temp/ipykernel_6716/67391954.py\"\u001b[1;36m, line \u001b[1;32m1\u001b[0m\n\u001b[1;33m    write a program to check wheather the given number is even or odd by using the single stand class object with in attribute\u001b[0m\n\u001b[1;37m          ^\u001b[0m\n\u001b[1;31mSyntaxError\u001b[0m\u001b[1;31m:\u001b[0m invalid syntax\n"
     ]
    }
   ],
   "source": [
    "write a program to check wheather the given number is even or odd by using the single stand class object with in attribute\n",
    "following the constructor\n",
    "test case:21"
   ]
  },
  {
   "cell_type": "code",
   "execution_count": 12,
   "id": "da449818",
   "metadata": {},
   "outputs": [
    {
     "name": "stdout",
     "output_type": "stream",
     "text": [
      "21 is odd\n"
     ]
    }
   ],
   "source": [
    "class number:\n",
    "    even=0\n",
    "    def check(self,num):\n",
    "        if num%2==0:\n",
    "            self.even= 1\n",
    "    def even_odd(self, num):\n",
    "        self.check(num)\n",
    "        if self.even==1:\n",
    "            print(num,\"is even\")\n",
    "        else:\n",
    "            print(num,\"is odd\")\n",
    "n=number()\n",
    "n.even_odd(21)\n",
    "            "
   ]
  },
  {
   "cell_type": "code",
   "execution_count": 16,
   "id": "fc6dfa8c",
   "metadata": {},
   "outputs": [
    {
     "name": "stdout",
     "output_type": "stream",
     "text": [
      "even number list is [12, 28]\n",
      "odd number list is  [11, 13, 7]\n"
     ]
    }
   ],
   "source": [
    "class number:\n",
    "    even=[]\n",
    "    odd=[]\n",
    "    def __init__(self,num):\n",
    "        self.num=num\n",
    "        if num%2==0:\n",
    "            number.even.append(num)\n",
    "        else:\n",
    "            number.odd.append(num)\n",
    "n1=number(11)\n",
    "n2=number(12)\n",
    "n3=number(13)\n",
    "n4=number(28)\n",
    "n5=number(7)\n",
    "print(\"even number list is\",number.even)\n",
    "print(\"odd number list is \",number.odd)"
   ]
  },
  {
   "cell_type": "code",
   "execution_count": 21,
   "id": "443f1014",
   "metadata": {},
   "outputs": [
    {
     "name": "stdout",
     "output_type": "stream",
     "text": [
      "area 176.7144375\n",
      "circumference 47.12385\n"
     ]
    }
   ],
   "source": [
    "class circle:\n",
    "    pi=3.14159\n",
    "    def __init__(self,r):\n",
    "        self.r=r\n",
    "    def area(self):\n",
    "        return circle.pi*self.r*self.r\n",
    "    def circum(self):\n",
    "        return 2*circle.pi*self.r\n",
    "c=circle(7.5)\n",
    "print(\"area\",c.area())\n",
    "print(\"circumference\",c.circum())"
   ]
  },
  {
   "cell_type": "code",
   "execution_count": 1,
   "id": "5e976e28",
   "metadata": {},
   "outputs": [
    {
     "name": "stdout",
     "output_type": "stream",
     "text": [
      "player1 choice(X or O):O\n",
      "player1:O,player2:X\n",
      "||\n",
      "------\n",
      "||\n",
      "------\n",
      "||\n",
      "enter the coordinates:1 0\n",
      "||\n",
      "------\n",
      "O||\n",
      "------\n",
      "||\n",
      "enter the coordinates:2 0\n",
      "||\n",
      "------\n",
      "O||\n",
      "------\n",
      "X||\n",
      "enter the coordinates:0 2\n",
      "||O\n",
      "------\n",
      "O||\n",
      "------\n",
      "X||\n",
      "enter the coordinates:0 1\n",
      "|X|O\n",
      "------\n",
      "O||\n",
      "------\n",
      "X||\n",
      "enter the coordinates:0 0\n",
      "O|X|O\n",
      "------\n",
      "O||\n",
      "------\n",
      "X||\n",
      "enter the coordinates:1 0\n",
      "player2 wins\n"
     ]
    }
   ],
   "source": [
    "board=[['','',''],['','',''],['','','']]\n",
    "def print_board(board):\n",
    "    print(*board[0],sep=\"|\")\n",
    "    print(\"------\")\n",
    "    print(*board[1],sep=\"|\")\n",
    "    print(\"------\")\n",
    "    print(*board[2],sep=\"|\")\n",
    "def get_markers():\n",
    "    marker1=input(\"player1 choice(X or O):\").upper()\n",
    "    marker2=\"\"\n",
    "    if marker1==\"X\":\n",
    "        marker2='O'\n",
    "        return['X','O']\n",
    "    elif marker1=='O':\n",
    "        marker2='X'\n",
    "        return['O','X']\n",
    "    else:\n",
    "        print(\"Invalid Input\")\n",
    "        return get_markers()\n",
    "def get_coordinates():\n",
    "    x,y=list(map(int,input(\"enter the coordinates:\").split()))\n",
    "    if x in [0,1,2] and y in [0,1,2]:\n",
    "        return[x,y]\n",
    "    else:\n",
    "        print(\"Invalid Input\")\n",
    "        return get_coordinates()\n",
    "def check_for_win(board):\n",
    "    for row in board:\n",
    "        if row[0]==row[1] and row[1]==row[2] and row[1]!=\"\":\n",
    "            return True\n",
    "    for i in range(len(board)):\n",
    "        if board[0][1]==board[1][i] and board[1][i]==board[2][i] and board[2][i]!=\"\":\n",
    "            return True\n",
    "    if board[0][0]==board[1][1] and board[1][1]==board[2][2] and board[2][2]!=\"\":\n",
    "        return True\n",
    "    if board[0][2]==board[1][1] and board[1][1]==board[2][0] and board[2][0]!=\"\":\n",
    "        return True\n",
    "    return False\n",
    "def update_board(board,chance,marker,x,y):\n",
    "    if chance==True:\n",
    "        board[x][y]=marker\n",
    "        if check_for_win(board):\n",
    "            print(\"player 1 wins\")\n",
    "            return\"game over\"\n",
    "        return False\n",
    "    else:\n",
    "        board[x][y]=marker\n",
    "        if check_for_win(board):\n",
    "            print(\"player2 wins\")\n",
    "            return\"game over\"\n",
    "        return True\n",
    "def play_game():\n",
    "    player1=0\n",
    "    player2=0\n",
    "    m1,m2=get_markers()\n",
    "    print(f\"player1:{m1},player2:{m2}\")\n",
    "    chance=True\n",
    "    while True:\n",
    "        print_board(board)\n",
    "        x,y=get_coordinates()\n",
    "        if chance:\n",
    "            chance=update_board(board,chance,m1,x,y)\n",
    "            if chance==\"game over\":\n",
    "                break\n",
    "        else:\n",
    "            chance=update_board(board,chance,m2,x,y)\n",
    "            if chance==\"game over\":\n",
    "                break\n",
    "play_game()"
   ]
  },
  {
   "cell_type": "code",
   "execution_count": null,
   "id": "06555791",
   "metadata": {},
   "outputs": [],
   "source": []
  },
  {
   "cell_type": "code",
   "execution_count": null,
   "id": "6cba99e9",
   "metadata": {},
   "outputs": [],
   "source": []
  }
 ],
 "metadata": {
  "kernelspec": {
   "display_name": "Python 3 (ipykernel)",
   "language": "python",
   "name": "python3"
  },
  "language_info": {
   "codemirror_mode": {
    "name": "ipython",
    "version": 3
   },
   "file_extension": ".py",
   "mimetype": "text/x-python",
   "name": "python",
   "nbconvert_exporter": "python",
   "pygments_lexer": "ipython3",
   "version": "3.9.7"
  }
 },
 "nbformat": 4,
 "nbformat_minor": 5
}
